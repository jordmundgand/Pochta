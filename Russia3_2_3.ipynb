{
  "nbformat": 4,
  "nbformat_minor": 0,
  "metadata": {
    "colab": {
      "provenance": []
    },
    "kernelspec": {
      "name": "python3",
      "display_name": "Python 3"
    },
    "language_info": {
      "name": "python"
    }
  },
  "cells": [
    {
      "cell_type": "code",
      "execution_count": null,
      "metadata": {
        "id": "hH_L0XbmLJtX"
      },
      "outputs": [],
      "source": [
        "!wget https://lodmedia.hb.bizmrg.com/case_files/885303/train_dataset_train.csv\n",
        "!wget https://lodmedia.hb.bizmrg.com/case_files/885303/test_dataset_test.csv"
      ]
    },
    {
      "cell_type": "code",
      "source": [
        "!pip install catboost"
      ],
      "metadata": {
        "id": "QQUaxjTRLntE"
      },
      "execution_count": null,
      "outputs": []
    },
    {
      "cell_type": "code",
      "source": [
        "import time\n",
        "import os\n",
        "import shutil\n",
        "import pandas as pd\n",
        "import numpy as np\n",
        "import matplotlib.pyplot as plt\n",
        "import seaborn as sns\n",
        "from sklearn.cluster import dbscan,DBSCAN\n",
        "from sklearn.manifold import TSNE\n",
        "from sklearn.feature_extraction.text import TfidfTransformer, CountVectorizer, TfidfVectorizer\n",
        "from sklearn.linear_model import LinearRegression, LogisticRegression, SGDClassifier, SGDRegressor, RidgeClassifier, LogisticRegressionCV,Ridge,QuantileRegressor,PassiveAggressiveClassifier,PoissonRegressor\n",
        "from sklearn.ensemble import ExtraTreesRegressor,ExtraTreesClassifier,RandomForestClassifier,VotingClassifier,RandomForestRegressor,GradientBoostingClassifier,GradientBoostingRegressor,StackingRegressor,BaggingClassifier\n",
        "from sklearn.tree import DecisionTreeRegressor,DecisionTreeClassifier\n",
        "from sklearn.svm import LinearSVC,LinearSVR,SVR,NuSVR\n",
        "from sklearn.decomposition import TruncatedSVD,PCA,FactorAnalysis,IncrementalPCA,FastICA,KernelPCA,NMF\n",
        "from sklearn.preprocessing import RobustScaler,QuantileTransformer,PowerTransformer,PolynomialFeatures,KBinsDiscretizer,StandardScaler,OneHotEncoder,OrdinalEncoder,FunctionTransformer,MaxAbsScaler,MinMaxScaler\n",
        "from sklearn.model_selection import cross_val_score\n",
        "from sklearn.pipeline import Pipeline,FeatureUnion,TransformerMixin\n",
        "from sklearn.neighbors import KNeighborsClassifier,KNeighborsRegressor,LocalOutlierFactor,NearestCentroid\n",
        "from sklearn.model_selection import train_test_split,ShuffleSplit,StratifiedShuffleSplit,TimeSeriesSplit,GridSearchCV,KFold,StratifiedKFold\n",
        "from sklearn.feature_selection import SelectFromModel\n",
        "from sklearn.compose import ColumnTransformer\n",
        "from sklearn.impute import KNNImputer,SimpleImputer\n",
        "from sklearn.dummy import DummyRegressor,DummyClassifier\n",
        "from sklearn import set_config\n",
        "from sklearn.metrics.pairwise import paired_manhattan_distances\n",
        "from sklearn.metrics import r2_score,mean_absolute_error,mean_squared_error,roc_auc_score,accuracy_score,f1_score,classification_report,recall_score,make_scorer\n",
        "import catboost"
      ],
      "metadata": {
        "id": "GLHPYG_-Lnph"
      },
      "execution_count": null,
      "outputs": []
    },
    {
      "cell_type": "code",
      "source": [
        "train=pd.read_csv('/content/content/train_dataset_train.csv')\n",
        "test=pd.read_csv('/content/content/test_dataset_test.csv')"
      ],
      "metadata": {
        "id": "T0irskjDLnh4"
      },
      "execution_count": null,
      "outputs": []
    },
    {
      "cell_type": "code",
      "source": [
        "X_train,X_val,y_train,y_val=train_test_split(train[['index_oper',\n",
        " 'price_mfi',\n",
        " 'total_qty_oper_login_0',\n",
        " 'total_qty_oper_login_1',\n",
        " 'total_qty_over_index',\n",
        " 'total_qty_over_index_and_type',\n",
        " 'transport_pay',\n",
        " 'weight',\n",
        " 'weight_mfi',\n",
        " 'oper_type + oper_attr', 'type', 'priority',\n",
        "       'is_privatecategory', 'class', 'is_in_yandex', 'is_return', \n",
        "       'mailtype', 'mailctg', 'mailrank', 'directctg', \n",
        "       'postmark', 'dist_qty_oper_login_1', 'is_wrong_sndr_name', 'is_wrong_rcpn_name',\n",
        "       'is_wrong_phone_number', 'is_wrong_address']],\n",
        "                                             train['label'].values,\n",
        "                                             test_size=0.1,\n",
        "                                             random_state=0,\n",
        "                                             stratify=train['label'])"
      ],
      "metadata": {
        "id": "4TuyhCW0LnbK"
      },
      "execution_count": null,
      "outputs": []
    },
    {
      "cell_type": "code",
      "source": [
        "cls=catboost.CatBoostClassifier(iterations=1000, \n",
        "                                learning_rate=0.1,\n",
        "                                loss_function='Logloss',\n",
        "                                auto_class_weights='Balanced', \n",
        "                                use_best_model=True,\n",
        "                                task_type='GPU',\n",
        "                                eval_metric='Logloss',\n",
        "                                border_count=254,\n",
        "                                bagging_temperature=0.1)"
      ],
      "metadata": {
        "id": "_qW6NSQqLnXg"
      },
      "execution_count": null,
      "outputs": []
    },
    {
      "cell_type": "code",
      "source": [
        "cls.fit(X_train,y_train,\n",
        "        cat_features=['oper_type + oper_attr','type','is_privatecategory', \n",
        "                      'is_in_yandex', 'is_return'],\n",
        "        eval_set=(X_val,y_val),\n",
        "        verbose=10)"
      ],
      "metadata": {
        "id": "84GZV3JjNDmQ"
      },
      "execution_count": null,
      "outputs": []
    },
    {
      "cell_type": "code",
      "source": [
        "test['label']=cls.predict(test[['index_oper',\n",
        " 'price_mfi',\n",
        " 'total_qty_oper_login_0',\n",
        " 'total_qty_oper_login_1',\n",
        " 'total_qty_over_index',\n",
        " 'total_qty_over_index_and_type',\n",
        " 'transport_pay',\n",
        " 'weight',\n",
        " 'weight_mfi',\n",
        " 'oper_type + oper_attr', 'type', 'priority',\n",
        "       'is_privatecategory', 'class', 'is_in_yandex', 'is_return', \n",
        "       'mailtype', 'mailctg', 'mailrank', 'directctg', \n",
        "       'postmark', 'dist_qty_oper_login_1', 'is_wrong_sndr_name', 'is_wrong_rcpn_name',\n",
        "       'is_wrong_phone_number', 'is_wrong_address']])"
      ],
      "metadata": {
        "id": "7GFnNZWpNs5j"
      },
      "execution_count": null,
      "outputs": []
    },
    {
      "cell_type": "code",
      "source": [
        "submit=test[['id','label']]"
      ],
      "metadata": {
        "id": "zGqAYpImNuyk"
      },
      "execution_count": null,
      "outputs": []
    },
    {
      "cell_type": "code",
      "source": [
        "submit.to_csv('submitr32.csv',index=False)"
      ],
      "metadata": {
        "id": "3ZbTDhmJNut4"
      },
      "execution_count": null,
      "outputs": []
    }
  ]
}